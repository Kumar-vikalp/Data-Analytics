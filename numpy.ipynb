{
 "cells": [
  {
   "cell_type": "markdown",
   "id": "73b7bcf9",
   "metadata": {},
   "source": [
    "# Numpy\n",
    ">~ travis Oliphnat\n",
    "\n",
    "Numpy developed in c++\n",
    "\n",
    "Developed specially for matrix calculation\n",
    "\n",
    "Array is a container that contains similiar data types\n"
   ]
  },
  {
   "cell_type": "code",
   "execution_count": 2,
   "id": "a27cf229",
   "metadata": {},
   "outputs": [
    {
     "name": "stdout",
     "output_type": "stream",
     "text": [
      "Requirement already satisfied: numpy in c:\\users\\vikal\\anaconda3\\lib\\site-packages (1.24.3)\n",
      "Note: you may need to restart the kernel to use updated packages.\n"
     ]
    }
   ],
   "source": [
    "# pip install numpy"
   ]
  },
  {
   "cell_type": "code",
   "execution_count": 2,
   "id": "85997003",
   "metadata": {
    "tags": []
   },
   "outputs": [],
   "source": [
    "import numpy as np\n"
   ]
  },
  {
   "cell_type": "code",
   "execution_count": 3,
   "id": "601d572a",
   "metadata": {},
   "outputs": [
    {
     "name": "stdout",
     "output_type": "stream",
     "text": [
      "[1 2 3 4 5 6 7 8 9]\n"
     ]
    }
   ],
   "source": [
    "#integer\n",
    "a = np.array([1,2,3,4,5,6,7,8,9,])\n",
    "print (a)"
   ]
  },
  {
   "cell_type": "code",
   "execution_count": 4,
   "id": "223040af",
   "metadata": {},
   "outputs": [
    {
     "name": "stdout",
     "output_type": "stream",
     "text": [
      "[1.  2.  3.  4.  5.  6.  7.5 8.  9. ]\n"
     ]
    }
   ],
   "source": [
    "#float\n",
    "b = np.array([1,2,3,4,5,6,7.5,8,9,])\n",
    "print (b)"
   ]
  },
  {
   "cell_type": "code",
   "execution_count": 7,
   "id": "d8414012",
   "metadata": {},
   "outputs": [
    {
     "name": "stdout",
     "output_type": "stream",
     "text": [
      "['1' '2' '3' '4' '5' '6' '7.5' '8' '9' '10']\n"
     ]
    }
   ],
   "source": [
    "#string\n",
    "c = np.array([1,2,3,4,5,6,7.5,8,9,\"10\"])\n",
    "print (c)"
   ]
  },
  {
   "cell_type": "markdown",
   "id": "a2bbc0f9",
   "metadata": {},
   "source": [
    "numpy convers the datatype to prevent data loss\n",
    "\n",
    "conversion py presidence\n",
    "1-String, 2-Float, 3-Integer"
   ]
  },
  {
   "cell_type": "code",
   "execution_count": 11,
   "id": "cfbbcf89",
   "metadata": {},
   "outputs": [
    {
     "name": "stdout",
     "output_type": "stream",
     "text": [
      "[1 2 3 4 5 6 7 8 9]\n"
     ]
    },
    {
     "name": "stderr",
     "output_type": "stream",
     "text": [
      "C:\\Users\\vikal\\AppData\\Local\\Temp\\ipykernel_9316\\2166460011.py:4: DeprecationWarning: Converting `np.integer` or `np.signedinteger` to a dtype is deprecated. The current result is `np.dtype(np.int_)` which is not strictly correct. Note that the result depends on the system. To ensure stable results use may want to use `np.int64` or `np.int32`.\n",
      "  d = np.array([1,2,3,4,5,6,7.5,8,9,],dtype=np.integer)\n"
     ]
    }
   ],
   "source": [
    "# if u dont want that numpy converts ur datatype to prevent dataloss\n",
    "\n",
    "#float\n",
    "d = np.array([1,2,3,4,5,6,7.5,8,9,],dtype=np.integer)\n",
    "print (d)\n",
    "\n",
    "# here 7.5 whiich is a float aka decimal value convert into intege"
   ]
  },
  {
   "cell_type": "markdown",
   "id": "c04e9a46",
   "metadata": {},
   "source": [
    "bits/bytes\n",
    "int8 can store numbers from -128 to 127 \n",
    "if our data is in between these nos and we using like int 64 which will consume a lot memory block and used only limited bytes so the rest will not be used so its a wastage of memory  \n",
    "\n",
    "\n",
    "np.int8(-128 to 127), np.int16,np.int32, np.int64"
   ]
  },
  {
   "cell_type": "code",
   "execution_count": 12,
   "id": "c7b73f36",
   "metadata": {},
   "outputs": [],
   "source": [
    "import sys"
   ]
  },
  {
   "cell_type": "code",
   "execution_count": 13,
   "id": "760d7426",
   "metadata": {},
   "outputs": [
    {
     "name": "stdout",
     "output_type": "stream",
     "text": [
      "[1 2 3 4 5 6 7 8 9]\n"
     ]
    },
    {
     "data": {
      "text/plain": [
       "121"
      ]
     },
     "execution_count": 13,
     "metadata": {},
     "output_type": "execute_result"
    }
   ],
   "source": [
    "# memory bytes consumed bye int8\n",
    "\n",
    "e = np.array([1,2,3,4,5,6,7.5,8,9,],dtype=np.int8)\n",
    "print (e)\n",
    "\n",
    "sys.getsizeof(e)"
   ]
  },
  {
   "cell_type": "code",
   "execution_count": 14,
   "id": "f93b835f",
   "metadata": {},
   "outputs": [
    {
     "name": "stdout",
     "output_type": "stream",
     "text": [
      "[1 2 3 4 5 6 7 8 9]\n"
     ]
    },
    {
     "data": {
      "text/plain": [
       "130"
      ]
     },
     "execution_count": 14,
     "metadata": {},
     "output_type": "execute_result"
    }
   ],
   "source": [
    "# memory bytes consumed bye int16\n",
    "\n",
    "f = np.array([1,2,3,4,5,6,7.5,8,9,],dtype=np.int16)\n",
    "print (f)\n",
    "\n",
    "sys.getsizeof(f)"
   ]
  },
  {
   "cell_type": "code",
   "execution_count": 15,
   "id": "02c91415",
   "metadata": {},
   "outputs": [
    {
     "name": "stdout",
     "output_type": "stream",
     "text": [
      "[1 2 3 4 5 6 7 8 9]\n"
     ]
    },
    {
     "data": {
      "text/plain": [
       "148"
      ]
     },
     "execution_count": 15,
     "metadata": {},
     "output_type": "execute_result"
    }
   ],
   "source": [
    "# memory bytes consumed bye int32\n",
    "\n",
    "g = np.array([1,2,3,4,5,6,7.5,8,9,],dtype=np.int32)\n",
    "print (g)\n",
    "\n",
    "sys.getsizeof(g)"
   ]
  },
  {
   "cell_type": "code",
   "execution_count": 16,
   "id": "7460fdb4",
   "metadata": {},
   "outputs": [
    {
     "name": "stdout",
     "output_type": "stream",
     "text": [
      "[[1 2 3]\n",
      " [4 5 6]]\n"
     ]
    }
   ],
   "source": [
    "# 2d Array\n",
    "\n",
    "h = np.array([[1,2,3],[4,5,6]])\n",
    "print(h)"
   ]
  },
  {
   "cell_type": "code",
   "execution_count": 18,
   "id": "14c78a8b",
   "metadata": {},
   "outputs": [
    {
     "name": "stdout",
     "output_type": "stream",
     "text": [
      "[[0. 0.]\n",
      " [0. 0.]]\n"
     ]
    }
   ],
   "source": [
    "i = np.zeros((2,2))\n",
    "print(i)"
   ]
  },
  {
   "cell_type": "code",
   "execution_count": 20,
   "id": "0e60bb0e",
   "metadata": {},
   "outputs": [
    {
     "name": "stdout",
     "output_type": "stream",
     "text": [
      "[[0 0]\n",
      " [0 0]]\n"
     ]
    }
   ],
   "source": [
    "# Zeros\n",
    "\n",
    "# we were getting decimals in the previous array so we changed the data type by using dtype\n",
    "# why int8 cause data range is less so why to waste memory\n",
    "\n",
    "\n",
    "i = np.zeros((2,2), dtype=np.int8)\n",
    "print(i)"
   ]
  },
  {
   "cell_type": "code",
   "execution_count": 21,
   "id": "fb9a0c8d",
   "metadata": {},
   "outputs": [
    {
     "name": "stdout",
     "output_type": "stream",
     "text": [
      "[[1 1]\n",
      " [1 1]]\n"
     ]
    }
   ],
   "source": [
    "# Ones\n",
    "\n",
    "j = np.ones((2,2), dtype=np.int8)\n",
    "print(j)"
   ]
  },
  {
   "cell_type": "code",
   "execution_count": 24,
   "id": "a64799b5",
   "metadata": {},
   "outputs": [
    {
     "name": "stdout",
     "output_type": "stream",
     "text": [
      "[[5 5]\n",
      " [5 5]]\n"
     ]
    }
   ],
   "source": [
    "# Full\n",
    "# using full we can use any number \n",
    "# np.full((shape),value ,dtype)\n",
    "\n",
    "k = np.full((2,2),5, dtype=np.int8)\n",
    "print(k)"
   ]
  },
  {
   "cell_type": "markdown",
   "id": "e0f4d953",
   "metadata": {},
   "source": [
    "# Reshape & Resize"
   ]
  },
  {
   "cell_type": "markdown",
   "id": "51776990-3617-4f7f-88eb-1fa1a20f5659",
   "metadata": {},
   "source": [
    "### Reshape\n",
    "\n",
    "not even a single element can be left "
   ]
  },
  {
   "cell_type": "code",
   "execution_count": 7,
   "id": "b05109e4",
   "metadata": {
    "tags": []
   },
   "outputs": [],
   "source": [
    "a = np.array([1,2,3,4,5,6,7,8,9,10])"
   ]
  },
  {
   "cell_type": "code",
   "execution_count": 8,
   "id": "76d14019",
   "metadata": {
    "tags": []
   },
   "outputs": [
    {
     "name": "stdout",
     "output_type": "stream",
     "text": [
      "[7 9 6 9 2 8 7 1 6 3]\n"
     ]
    }
   ],
   "source": [
    "a=np.array([np.random.randint(1,10)for i in range(10)])\n",
    "\n",
    "print (a)"
   ]
  },
  {
   "cell_type": "code",
   "execution_count": 9,
   "id": "834287d3",
   "metadata": {
    "tags": []
   },
   "outputs": [
    {
     "data": {
      "text/plain": [
       "array([[7, 9],\n",
       "       [6, 9],\n",
       "       [2, 8],\n",
       "       [7, 1],\n",
       "       [6, 3]])"
      ]
     },
     "execution_count": 9,
     "metadata": {},
     "output_type": "execute_result"
    }
   ],
   "source": [
    "np.reshape(a,(5,2))"
   ]
  },
  {
   "cell_type": "code",
   "execution_count": 10,
   "id": "37ca12cb",
   "metadata": {
    "tags": []
   },
   "outputs": [
    {
     "data": {
      "text/plain": [
       "array([[7, 9, 6, 9, 2],\n",
       "       [8, 7, 1, 6, 3]])"
      ]
     },
     "execution_count": 10,
     "metadata": {},
     "output_type": "execute_result"
    }
   ],
   "source": [
    "np.reshape(a,(2,5))"
   ]
  },
  {
   "cell_type": "code",
   "execution_count": 16,
   "id": "34a4f82d-d375-441c-87cc-a61feea7e52d",
   "metadata": {
    "tags": []
   },
   "outputs": [
    {
     "data": {
      "text/plain": [
       "array([[1, 2, 3, 4, 5, 6, 7]])"
      ]
     },
     "execution_count": 16,
     "metadata": {},
     "output_type": "execute_result"
    }
   ],
   "source": [
    "b = [1,2,3,4,5,6,7]\n",
    "\n",
    "np.reshape(b,(1,7))\n",
    "\n"
   ]
  },
  {
   "cell_type": "code",
   "execution_count": 15,
   "id": "d773c561-fd3b-4cc7-a6d6-b87d74f9fc8f",
   "metadata": {
    "tags": []
   },
   "outputs": [
    {
     "data": {
      "text/plain": [
       "array([[1],\n",
       "       [2],\n",
       "       [3],\n",
       "       [4],\n",
       "       [5],\n",
       "       [6],\n",
       "       [7]])"
      ]
     },
     "execution_count": 15,
     "metadata": {},
     "output_type": "execute_result"
    }
   ],
   "source": [
    "np.reshape(b,(7,1))\n"
   ]
  },
  {
   "cell_type": "markdown",
   "id": "1e6dc21d-4d77-4add-ac18-af7e99d9c4fb",
   "metadata": {},
   "source": [
    "\n",
    "# order\n",
    "> by default we r using the order of c language to make the array \n",
    "\n",
    "c says the if it has 6 elements then the first 3 elements are on top nd the other 3 will be on bottom\n",
    "\n",
    "fortron also make the array it has different order eg"
   ]
  },
  {
   "cell_type": "code",
   "execution_count": 19,
   "id": "bb3140de-6b24-4ce1-9812-863f3f9aaa08",
   "metadata": {
    "tags": []
   },
   "outputs": [
    {
     "data": {
      "text/plain": [
       "array([[7, 9, 6, 9, 2],\n",
       "       [8, 7, 1, 6, 3]])"
      ]
     },
     "execution_count": 19,
     "metadata": {},
     "output_type": "execute_result"
    }
   ],
   "source": [
    "# C lang order (denoted as C)\n",
    "np.reshape(a,(2,5), order = 'C')"
   ]
  },
  {
   "cell_type": "code",
   "execution_count": 20,
   "id": "5164db3d-7a2e-45a3-b435-b2e44d8236de",
   "metadata": {
    "tags": []
   },
   "outputs": [
    {
     "data": {
      "text/plain": [
       "array([[7, 6, 2, 7, 6],\n",
       "       [9, 9, 8, 1, 3]])"
      ]
     },
     "execution_count": 20,
     "metadata": {},
     "output_type": "execute_result"
    }
   ],
   "source": [
    "# Fotron lang order (denoted as F)\n",
    "np.reshape(a,(2,5), order = 'F')"
   ]
  },
  {
   "cell_type": "code",
   "execution_count": 21,
   "id": "28843f22-c58e-4e06-a797-9357a02f7bec",
   "metadata": {
    "tags": []
   },
   "outputs": [
    {
     "data": {
      "text/plain": [
       "1"
      ]
     },
     "execution_count": 21,
     "metadata": {},
     "output_type": "execute_result"
    }
   ],
   "source": [
    "# to check the dimention of the array\n",
    "\n",
    "np.ndim(a)"
   ]
  },
  {
   "cell_type": "code",
   "execution_count": 22,
   "id": "1ba06a7c-1738-4bc7-8d49-7237ef3479fd",
   "metadata": {
    "tags": []
   },
   "outputs": [
    {
     "data": {
      "text/plain": [
       "(10,)"
      ]
     },
     "execution_count": 22,
     "metadata": {},
     "output_type": "execute_result"
    }
   ],
   "source": [
    "# to check the shape of the array\n",
    "\n",
    "np.shape(a)\n",
    "\n",
    "# 10 and nothing after comma it means one (10,1) or (10,)\n",
    "#means one row 10 coloumns\n",
    "\n"
   ]
  },
  {
   "cell_type": "code",
   "execution_count": 23,
   "id": "84bf7196-8001-417c-ac18-7d50cfc484ee",
   "metadata": {
    "tags": []
   },
   "outputs": [
    {
     "data": {
      "text/plain": [
       "10"
      ]
     },
     "execution_count": 23,
     "metadata": {},
     "output_type": "execute_result"
    }
   ],
   "source": [
    "# we can use len fun to get the element \n",
    "\n",
    "len(a)"
   ]
  },
  {
   "cell_type": "markdown",
   "id": "466d5f57-776e-46bf-bdce-4c968d6572ac",
   "metadata": {},
   "source": [
    "### Resize\n",
    "\n",
    "elements can be left "
   ]
  },
  {
   "cell_type": "code",
   "execution_count": 25,
   "id": "747a51ed-e219-403f-88a7-d22fa4affeb4",
   "metadata": {
    "tags": []
   },
   "outputs": [
    {
     "data": {
      "text/plain": [
       "array([[7, 9, 6],\n",
       "       [9, 2, 8],\n",
       "       [7, 1, 6]])"
      ]
     },
     "execution_count": 25,
     "metadata": {},
     "output_type": "execute_result"
    }
   ],
   "source": [
    "np.resize(a,(3,3))"
   ]
  },
  {
   "cell_type": "code",
   "execution_count": 28,
   "id": "2dcdaac8-21b5-4fa8-8fda-1cecbcf7f043",
   "metadata": {
    "tags": []
   },
   "outputs": [
    {
     "data": {
      "text/plain": [
       "array([[  1,   2,   3,   4,   5,   6,   7,   8,   9,  10],\n",
       "       [ 11,  12,  13,  14,  15,  16,  17,  18,  19,  20],\n",
       "       [ 21,  22,  23,  24,  25,  26,  27,  28,  29,  30],\n",
       "       [ 31,  32,  33,  34,  35,  36,  37,  38,  39,  40],\n",
       "       [ 41,  42,  43,  44,  45,  46,  47,  48,  49,  50],\n",
       "       [ 51,  52,  53,  54,  55,  56,  57,  58,  59,  60],\n",
       "       [ 61,  62,  63,  64,  65,  66,  67,  68,  69,  70],\n",
       "       [ 71,  72,  73,  74,  75,  76,  77,  78,  79,  80],\n",
       "       [ 81,  82,  83,  84,  85,  86,  87,  88,  89,  90],\n",
       "       [ 91,  92,  93,  94,  95,  96,  97,  98,  99, 100]])"
      ]
     },
     "execution_count": 28,
     "metadata": {},
     "output_type": "execute_result"
    }
   ],
   "source": [
    "np.resize(np.array([i for i in range (1, 101)]),(10,10))"
   ]
  },
  {
   "cell_type": "code",
   "execution_count": 29,
   "id": "f6910599-b331-422d-83a1-4e0da79406fe",
   "metadata": {
    "tags": []
   },
   "outputs": [
    {
     "data": {
      "text/plain": [
       "array([[ 1,  2,  3,  4,  5,  6,  7,  8,  9],\n",
       "       [10, 11, 12, 13, 14, 15, 16, 17, 18],\n",
       "       [19, 20, 21, 22, 23, 24, 25, 26, 27],\n",
       "       [28, 29, 30, 31, 32, 33, 34, 35, 36],\n",
       "       [37, 38, 39, 40, 41, 42, 43, 44, 45],\n",
       "       [46, 47, 48, 49, 50, 51, 52, 53, 54],\n",
       "       [55, 56, 57, 58, 59, 60, 61, 62, 63],\n",
       "       [64, 65, 66, 67, 68, 69, 70, 71, 72],\n",
       "       [73, 74, 75, 76, 77, 78, 79, 80, 81]])"
      ]
     },
     "execution_count": 29,
     "metadata": {},
     "output_type": "execute_result"
    }
   ],
   "source": [
    "np.resize(np.array([i for i in range (1, 101)]),(9,9))"
   ]
  },
  {
   "cell_type": "code",
   "execution_count": 31,
   "id": "149cde2b-9544-4be0-b053-e03db41bdb1d",
   "metadata": {
    "tags": []
   },
   "outputs": [],
   "source": [
    "z = np.resize(np.array([i for i in range (1, 101)]),(10,10))"
   ]
  },
  {
   "cell_type": "code",
   "execution_count": 32,
   "id": "f26f3e2c-7989-42aa-9498-2d291a35c4f9",
   "metadata": {
    "tags": []
   },
   "outputs": [
    {
     "data": {
      "text/plain": [
       "array([ 1,  2,  3,  4,  5,  6,  7,  8,  9, 10])"
      ]
     },
     "execution_count": 32,
     "metadata": {},
     "output_type": "execute_result"
    }
   ],
   "source": [
    "# indexing\n",
    "\n",
    "z[0]"
   ]
  },
  {
   "cell_type": "code",
   "execution_count": 33,
   "id": "34f70498-e932-4714-ab52-55762823fd96",
   "metadata": {
    "tags": []
   },
   "outputs": [
    {
     "data": {
      "text/plain": [
       "1"
      ]
     },
     "execution_count": 33,
     "metadata": {},
     "output_type": "execute_result"
    }
   ],
   "source": [
    "# indexing in indexing \n",
    "\n",
    "z[0][0]"
   ]
  },
  {
   "cell_type": "code",
   "execution_count": 34,
   "id": "2b3c7404-78f9-4be5-923b-9583a43a1aa7",
   "metadata": {
    "tags": []
   },
   "outputs": [
    {
     "name": "stdout",
     "output_type": "stream",
     "text": [
      "(1, 2, 3, 4, 5, 6, 7, 8, 9, 10, 11, 12, 13, 14, 15, 16, 17, 18, 19, 20, 21, 22, 23, 24, 25, 26, 27, 28, 29, 30, 31, 32, 33, 34, 35, 36, 37, 38, 39, 40, 41, 42, 43, 44, 45, 46, 47, 48, 49, 50, 51, 52, 53, 54, 55, 56, 57, 58, 59, 60, 61, 62, 63, 64, 65, 66, 67, 68, 69, 70, 71, 72, 73, 74, 75, 76, 77, 78, 79, 80, 81, 82, 83, 84, 85, 86, 87, 88, 89, 90, 91, 92, 93, 94, 95, 96, 97, 98, 99, 100)\n"
     ]
    }
   ],
   "source": [
    "cont=()\n",
    "for i in z :\n",
    "    cont = cont +tuple(i)\n",
    "print (cont)"
   ]
  },
  {
   "cell_type": "markdown",
   "id": "2516d0c9-d455-4a51-8dbd-06d8a6dab879",
   "metadata": {},
   "source": [
    "### structured and unstructured dataset"
   ]
  },
  {
   "cell_type": "code",
   "execution_count": null,
   "id": "4bb3e21b-a5c9-4c0f-84ff-402e47a12c00",
   "metadata": {},
   "outputs": [],
   "source": [
    "# 0 dimension array/ scalar array = it has only magnitude no direction\n",
    "# 1 dimension array = it has both magnitude nd direction\n",
    "# 2 dimension array = it has both x axis and y axis"
   ]
  },
  {
   "cell_type": "markdown",
   "id": "d3e59497-49e3-4cc3-894a-bd0c685cb9dd",
   "metadata": {},
   "source": [
    "### Multiplication of array: dot production"
   ]
  },
  {
   "cell_type": "code",
   "execution_count": 38,
   "id": "a92e753b-5878-4c06-84eb-dbec8d40b6b0",
   "metadata": {
    "tags": []
   },
   "outputs": [
    {
     "name": "stdout",
     "output_type": "stream",
     "text": [
      "[[0 1]\n",
      " [2 3]]\n"
     ]
    }
   ],
   "source": [
    "# 2,2\n",
    "\n",
    "a = np.resize( [i for i in range (10)],(2,2))\n",
    "\n",
    "print (a"
   ]
  },
  {
   "cell_type": "code",
   "execution_count": 61,
   "id": "31609f31-6850-4fe1-9940-6890435d66fd",
   "metadata": {
    "tags": []
   },
   "outputs": [
    {
     "name": "stdout",
     "output_type": "stream",
     "text": [
      "[[0 1]\n",
      " [2 3]]\n"
     ]
    }
   ],
   "source": [
    "a = np.resize( [i for i in range (10)],(2,2))\n",
    "\n",
    "print (a)\n"
   ]
  },
  {
   "cell_type": "code",
   "execution_count": 62,
   "id": "e8195ca3-acad-4b3a-a8d4-577dedaf751e",
   "metadata": {
    "tags": []
   },
   "outputs": [
    {
     "data": {
      "text/plain": [
       "(2, 2)"
      ]
     },
     "execution_count": 62,
     "metadata": {},
     "output_type": "execute_result"
    }
   ],
   "source": [
    "# to check the shape of the array \n",
    "np.shape(a)"
   ]
  },
  {
   "cell_type": "code",
   "execution_count": 63,
   "id": "bb378bc1-c704-4f2d-8998-05b350681fd6",
   "metadata": {
    "tags": []
   },
   "outputs": [
    {
     "data": {
      "text/plain": [
       "2"
      ]
     },
     "execution_count": 63,
     "metadata": {},
     "output_type": "execute_result"
    }
   ],
   "source": [
    "# to check the dimension of the array \n",
    "np.ndim(a)"
   ]
  },
  {
   "cell_type": "code",
   "execution_count": 64,
   "id": "20433959-786a-433f-b4d6-74372bf34a87",
   "metadata": {
    "tags": []
   },
   "outputs": [
    {
     "name": "stdout",
     "output_type": "stream",
     "text": [
      "[[0 1]\n",
      " [2 3]\n",
      " [4 5]]\n"
     ]
    }
   ],
   "source": [
    "# 3,2\n",
    "\n",
    "b = np.resize( [i for i in range (10)],(3,2))\n",
    "\n",
    "print (b)"
   ]
  },
  {
   "cell_type": "code",
   "execution_count": 46,
   "id": "3070474f-6282-4e4f-b569-863147bde2f6",
   "metadata": {
    "tags": []
   },
   "outputs": [
    {
     "data": {
      "text/plain": [
       "(3, 2)"
      ]
     },
     "execution_count": 46,
     "metadata": {},
     "output_type": "execute_result"
    }
   ],
   "source": [
    "# to check the shape of the array \n",
    "np.shape(b)\n"
   ]
  },
  {
   "cell_type": "code",
   "execution_count": 47,
   "id": "2b10467d-4c63-4499-bdb5-da564a54b19d",
   "metadata": {
    "tags": []
   },
   "outputs": [
    {
     "data": {
      "text/plain": [
       "2"
      ]
     },
     "execution_count": 47,
     "metadata": {},
     "output_type": "execute_result"
    }
   ],
   "source": [
    "# to check the dimension of the array \n",
    "np.ndim(b)"
   ]
  },
  {
   "cell_type": "markdown",
   "id": "a3e84332-1879-446b-8ce0-14d99fe6e483",
   "metadata": {
    "tags": []
   },
   "source": [
    "#can we multipy array a and b ?\n",
    "\n",
    "#no\n",
    "\n",
    "#why?\n",
    "\n",
    "coloumn of a shoud be eaqual to row of b only then multiplication is posssible\n"
   ]
  },
  {
   "cell_type": "code",
   "execution_count": 51,
   "id": "2ee05d26-0bbd-4db9-a265-990bb6e29569",
   "metadata": {
    "tags": []
   },
   "outputs": [
    {
     "ename": "ValueError",
     "evalue": "shapes (2,2) and (3,2) not aligned: 2 (dim 1) != 3 (dim 0)",
     "output_type": "error",
     "traceback": [
      "\u001b[1;31m---------------------------------------------------------------------------\u001b[0m",
      "\u001b[1;31mValueError\u001b[0m                                Traceback (most recent call last)",
      "Cell \u001b[1;32mIn[51], line 1\u001b[0m\n\u001b[1;32m----> 1\u001b[0m a\u001b[38;5;241m.\u001b[39mdot(b)\n",
      "\u001b[1;31mValueError\u001b[0m: shapes (2,2) and (3,2) not aligned: 2 (dim 1) != 3 (dim 0)"
     ]
    }
   ],
   "source": [
    "# here the multiplication is not possible \n",
    "# cause the coloumn of c is not eaqual to row of d \n",
    "\n",
    "# we can check the row and coloumn using np.shape\n",
    "\n",
    "a.dot(b)"
   ]
  },
  {
   "cell_type": "code",
   "execution_count": 54,
   "id": "4976e18a-094c-4088-b662-86ef065fd2e5",
   "metadata": {
    "tags": []
   },
   "outputs": [
    {
     "name": "stdout",
     "output_type": "stream",
     "text": [
      "[[0 1 2]\n",
      " [3 4 5]]\n"
     ]
    }
   ],
   "source": [
    "# 2,3\n",
    "\n",
    "c = np.resize( [i for i in range (10)],(2,3))\n",
    "\n",
    "print (a)\n"
   ]
  },
  {
   "cell_type": "code",
   "execution_count": 55,
   "id": "2ee27fec-c965-4bd4-98d1-5c109eba3ed8",
   "metadata": {
    "tags": []
   },
   "outputs": [
    {
     "name": "stdout",
     "output_type": "stream",
     "text": [
      "[[0 1]\n",
      " [2 3]\n",
      " [4 5]]\n"
     ]
    }
   ],
   "source": [
    "# 3,2\n",
    "\n",
    "d = np.resize( [i for i in range (10)],(3,2))\n",
    "\n",
    "print (b)"
   ]
  },
  {
   "cell_type": "code",
   "execution_count": 57,
   "id": "27333dc6-2d37-49e1-a985-5c9143221a40",
   "metadata": {
    "tags": []
   },
   "outputs": [
    {
     "data": {
      "text/plain": [
       "array([[10, 13],\n",
       "       [28, 40]])"
      ]
     },
     "execution_count": 57,
     "metadata": {},
     "output_type": "execute_result"
    }
   ],
   "source": [
    "# dot product of two arrays\n",
    "# here the multiplication is possible \n",
    "# cause the coloumn of c is eaqual to row of d \n",
    "\n",
    "\n",
    "c.dot(d)"
   ]
  },
  {
   "cell_type": "code",
   "execution_count": 59,
   "id": "4f1c21c9-0a88-4f18-8be0-6866568a0b0d",
   "metadata": {
    "tags": []
   },
   "outputs": [
    {
     "data": {
      "text/plain": [
       "array([[10, 13],\n",
       "       [28, 40]])"
      ]
     },
     "execution_count": 59,
     "metadata": {},
     "output_type": "execute_result"
    }
   ],
   "source": [
    "# another way to multiply the arrays or dot product of two arrays\n",
    "\n",
    "c@d"
   ]
  },
  {
   "cell_type": "code",
   "execution_count": 65,
   "id": "41172869-4e8b-42d0-814c-8df1cadc7408",
   "metadata": {
    "tags": []
   },
   "outputs": [
    {
     "data": {
      "text/plain": [
       "array([[0, 1],\n",
       "       [2, 3]])"
      ]
     },
     "execution_count": 65,
     "metadata": {},
     "output_type": "execute_result"
    }
   ],
   "source": [
    "# Transpose \n",
    "# to change the shape \n",
    "# imagine if the shape was like (2,3) after using transpose it will be like (3,2)\n",
    "\n",
    "a"
   ]
  },
  {
   "cell_type": "code",
   "execution_count": 66,
   "id": "9418d6c6-51ff-4e7e-8f1f-466198c2b08a",
   "metadata": {
    "tags": []
   },
   "outputs": [
    {
     "data": {
      "text/plain": [
       "array([[0, 2],\n",
       "       [1, 3]])"
      ]
     },
     "execution_count": 66,
     "metadata": {},
     "output_type": "execute_result"
    }
   ],
   "source": [
    "a.transpose()"
   ]
  },
  {
   "cell_type": "code",
   "execution_count": 70,
   "id": "f30a1e37-0ae6-45f1-a000-775a19d2fe7a",
   "metadata": {
    "tags": []
   },
   "outputs": [
    {
     "data": {
      "text/plain": [
       "array([[0, 1],\n",
       "       [2, 3],\n",
       "       [4, 5]])"
      ]
     },
     "execution_count": 70,
     "metadata": {},
     "output_type": "execute_result"
    }
   ],
   "source": [
    "b\n"
   ]
  },
  {
   "cell_type": "code",
   "execution_count": 71,
   "id": "64b4e510-4dd6-45f4-bfe2-43c2ad6f6f00",
   "metadata": {
    "tags": []
   },
   "outputs": [
    {
     "data": {
      "text/plain": [
       "(3, 2)"
      ]
     },
     "execution_count": 71,
     "metadata": {},
     "output_type": "execute_result"
    }
   ],
   "source": [
    "b.shape"
   ]
  },
  {
   "cell_type": "code",
   "execution_count": 75,
   "id": "b294d716-9553-4cf1-9f1a-89a4fc384d7d",
   "metadata": {
    "tags": []
   },
   "outputs": [
    {
     "data": {
      "text/plain": [
       "array([[0, 2, 4],\n",
       "       [1, 3, 5]])"
      ]
     },
     "execution_count": 75,
     "metadata": {},
     "output_type": "execute_result"
    }
   ],
   "source": [
    "m = b.transpose()\n",
    "\n",
    "m"
   ]
  },
  {
   "cell_type": "code",
   "execution_count": 76,
   "id": "b7a456fb-d357-4234-b0bb-e9e277319543",
   "metadata": {
    "tags": []
   },
   "outputs": [
    {
     "data": {
      "text/plain": [
       "(2, 3)"
      ]
     },
     "execution_count": 76,
     "metadata": {},
     "output_type": "execute_result"
    }
   ],
   "source": [
    "m.shape"
   ]
  },
  {
   "cell_type": "code",
   "execution_count": 78,
   "id": "71285b06-6746-4253-9677-956d01b2132e",
   "metadata": {
    "tags": []
   },
   "outputs": [
    {
     "data": {
      "text/plain": [
       "array([[0, 2, 4],\n",
       "       [1, 3, 5]])"
      ]
     },
     "execution_count": 78,
     "metadata": {},
     "output_type": "execute_result"
    }
   ],
   "source": [
    "# anoter way to use transpose\n",
    "b.T"
   ]
  },
  {
   "cell_type": "code",
   "execution_count": 82,
   "id": "7e128ecb-8090-4e6b-9237-8913fa3f62f0",
   "metadata": {
    "tags": []
   },
   "outputs": [
    {
     "data": {
      "text/plain": [
       "array(1)"
      ]
     },
     "execution_count": 82,
     "metadata": {},
     "output_type": "execute_result"
    }
   ],
   "source": [
    "# zero dimention array\n",
    "\n",
    "# 0 dimention array\n",
    "\n",
    "x = np.array(1)\n",
    "x"
   ]
  },
  {
   "cell_type": "code",
   "execution_count": 83,
   "id": "cf2931df-46f7-4fc4-b13f-c6a0d8479fa8",
   "metadata": {
    "tags": []
   },
   "outputs": [
    {
     "data": {
      "text/plain": [
       "()"
      ]
     },
     "execution_count": 83,
     "metadata": {},
     "output_type": "execute_result"
    }
   ],
   "source": [
    "np.shape(x)"
   ]
  },
  {
   "cell_type": "code",
   "execution_count": 84,
   "id": "a7697f02-99a7-4c06-81cf-7eed389440d1",
   "metadata": {
    "tags": []
   },
   "outputs": [
    {
     "data": {
      "text/plain": [
       "0"
      ]
     },
     "execution_count": 84,
     "metadata": {},
     "output_type": "execute_result"
    }
   ],
   "source": [
    "np.ndim(x)"
   ]
  },
  {
   "cell_type": "code",
   "execution_count": 86,
   "id": "ee46b316-bc46-4e43-87d0-0a055379d56a",
   "metadata": {
    "tags": []
   },
   "outputs": [
    {
     "data": {
      "text/plain": [
       "array([1])"
      ]
     },
     "execution_count": 86,
     "metadata": {},
     "output_type": "execute_result"
    }
   ],
   "source": [
    "# one dimention array\n",
    "\n",
    "# 1 dimention array\n",
    "\n",
    "y = np.array([1])\n",
    "y"
   ]
  },
  {
   "cell_type": "code",
   "execution_count": 88,
   "id": "f877b374-a3a9-4942-a4d3-e68f83af0fd2",
   "metadata": {
    "tags": []
   },
   "outputs": [
    {
     "data": {
      "text/plain": [
       "(1,)"
      ]
     },
     "execution_count": 88,
     "metadata": {},
     "output_type": "execute_result"
    }
   ],
   "source": [
    "np.shape(y)"
   ]
  },
  {
   "cell_type": "code",
   "execution_count": 89,
   "id": "282ec4c1-5b20-4d4b-be3b-b1ab7e0361d7",
   "metadata": {
    "tags": []
   },
   "outputs": [
    {
     "data": {
      "text/plain": [
       "1"
      ]
     },
     "execution_count": 89,
     "metadata": {},
     "output_type": "execute_result"
    }
   ],
   "source": [
    "np.ndim(y)"
   ]
  },
  {
   "cell_type": "code",
   "execution_count": null,
   "id": "ee7a6296-ac0a-4cbb-992a-ca5f5f1a9493",
   "metadata": {},
   "outputs": [],
   "source": []
  }
 ],
 "metadata": {
  "kernelspec": {
   "display_name": "Python 3 (ipykernel)",
   "language": "python",
   "name": "python3"
  },
  "language_info": {
   "codemirror_mode": {
    "name": "ipython",
    "version": 3
   },
   "file_extension": ".py",
   "mimetype": "text/x-python",
   "name": "python",
   "nbconvert_exporter": "python",
   "pygments_lexer": "ipython3",
   "version": "3.11.4"
  }
 },
 "nbformat": 4,
 "nbformat_minor": 5
}
