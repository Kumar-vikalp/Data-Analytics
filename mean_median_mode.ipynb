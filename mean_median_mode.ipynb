{
 "cells": [
  {
   "cell_type": "markdown",
   "id": "bfc0018f",
   "metadata": {},
   "source": [
    "# Topic of statstics\n",
    "> mean\n",
    "  > Arithematic mean \n",
    "  > Geomatric mean\n",
    "  > Harmonic mean\n",
    "  \n",
    "> meadian \n",
    "  > Odd term \n",
    "  > Even term\n",
    "  \n",
    "> mode\n",
    "> stnadarad deviation\n",
    "> varience\n",
    "> quantiles (Q1, q2, q3)\n",
    "> iqr inter quantile range\n",
    "> outliers\n",
    "  > min trand q1+1.5(Q3-Q1)\n",
    "  > max trand q1+1.5(Q3-Q1)\n"
   ]
  },
  {
   "cell_type": "code",
   "execution_count": 34,
   "id": "98a09f06",
   "metadata": {},
   "outputs": [
    {
     "name": "stdout",
     "output_type": "stream",
     "text": [
      "5.0\n"
     ]
    }
   ],
   "source": [
    "#Mean\n",
    "# > Arithematic mean \n",
    "# The mean, commonly referred to as the average\n",
    "\n",
    "a=4\n",
    "b=6\n",
    "\n",
    "print ((a+b)/2)\n",
    "\n",
    "# to get the average"
   ]
  },
  {
   "cell_type": "code",
   "execution_count": 35,
   "id": "8587cd5c",
   "metadata": {},
   "outputs": [
    {
     "data": {
      "text/plain": [
       "4.898979485566356"
      ]
     },
     "execution_count": 35,
     "metadata": {},
     "output_type": "execute_result"
    }
   ],
   "source": [
    "# > Geomatric mean\n",
    "\n",
    "(a*b)**(1/2)"
   ]
  },
  {
   "cell_type": "code",
   "execution_count": 36,
   "id": "3518be96",
   "metadata": {},
   "outputs": [
    {
     "data": {
      "text/plain": [
       "4.800000000000001"
      ]
     },
     "execution_count": 36,
     "metadata": {},
     "output_type": "execute_result"
    }
   ],
   "source": [
    "# > Harmonic mean\n",
    "\n",
    "2/((1/4)+(1/6))"
   ]
  },
  {
   "cell_type": "code",
   "execution_count": 37,
   "id": "c367aac0",
   "metadata": {},
   "outputs": [],
   "source": [
    "import statistics as s"
   ]
  },
  {
   "cell_type": "code",
   "execution_count": 38,
   "id": "3e9837e1",
   "metadata": {},
   "outputs": [
    {
     "data": {
      "text/plain": [
       "5"
      ]
     },
     "execution_count": 38,
     "metadata": {},
     "output_type": "execute_result"
    }
   ],
   "source": [
    "s.mean((a,b))"
   ]
  },
  {
   "cell_type": "code",
   "execution_count": 39,
   "id": "636ac91c",
   "metadata": {},
   "outputs": [
    {
     "data": {
      "text/plain": [
       "4.898979485566356"
      ]
     },
     "execution_count": 39,
     "metadata": {},
     "output_type": "execute_result"
    }
   ],
   "source": [
    "s.geometric_mean((a,b))"
   ]
  },
  {
   "cell_type": "code",
   "execution_count": 40,
   "id": "0e0893cf",
   "metadata": {},
   "outputs": [
    {
     "data": {
      "text/plain": [
       "4.8"
      ]
     },
     "execution_count": 40,
     "metadata": {},
     "output_type": "execute_result"
    }
   ],
   "source": [
    "s.harmonic_mean((a,b))"
   ]
  },
  {
   "cell_type": "markdown",
   "id": "a16dbbeb",
   "metadata": {},
   "source": [
    "# meadian/ mode/ Standard deviation\n",
    "\n",
    "\n",
    "> Median = it simply distribute our dataset to two parts from the center on the basis of their magnitude\n",
    "> medain  = central tendency\n",
    "\n",
    "> mode work on number and caegorical data\n",
    "    > numerical = numbers (float or integer)\n",
    "    > catagorical = categories (male/female) or string\n",
    "    \n"
   ]
  },
  {
   "cell_type": "markdown",
   "id": "97d0614f",
   "metadata": {},
   "source": [
    "### Odd term Medain"
   ]
  },
  {
   "cell_type": "code",
   "execution_count": 51,
   "id": "aa2eb6af",
   "metadata": {},
   "outputs": [
    {
     "name": "stdout",
     "output_type": "stream",
     "text": [
      "10\n"
     ]
    }
   ],
   "source": [
    "\n",
    "a = [1, 3, 5, 7,  9, 11, 55, 77, 59, 15]\n",
    "\n",
    "\n",
    "n = len(a)\n",
    "\n",
    "print (n)"
   ]
  },
  {
   "cell_type": "code",
   "execution_count": 52,
   "id": "30347421",
   "metadata": {},
   "outputs": [
    {
     "name": "stdout",
     "output_type": "stream",
     "text": [
      "Sorted list: [1, 3, 5, 7, 9, 11, 15, 55, 59, 77]\n"
     ]
    }
   ],
   "source": [
    "# by default it prints in ascendung \n",
    "\n",
    "a.sort()\n",
    "print(\"Sorted list:\", a)"
   ]
  },
  {
   "cell_type": "code",
   "execution_count": 53,
   "id": "5d12f1b0",
   "metadata": {},
   "outputs": [
    {
     "name": "stdout",
     "output_type": "stream",
     "text": [
      "Sorted list: [77, 59, 55, 15, 11, 9, 7, 5, 3, 1]\n"
     ]
    }
   ],
   "source": [
    "# to print in descending we will use reverse keyword\n",
    "\n",
    "a.sort(reverse=True)\n",
    "print(\"Sorted list:\", a)"
   ]
  },
  {
   "cell_type": "code",
   "execution_count": 59,
   "id": "537a43f3",
   "metadata": {},
   "outputs": [
    {
     "name": "stdout",
     "output_type": "stream",
     "text": [
      "11\n"
     ]
    }
   ],
   "source": [
    "# even term \n",
    "\n",
    "even = a[((n+1)//2)-1]\n",
    "\n",
    "print (even)"
   ]
  },
  {
   "cell_type": "code",
   "execution_count": 93,
   "id": "29940ef5",
   "metadata": {},
   "outputs": [
    {
     "name": "stdout",
     "output_type": "stream",
     "text": [
      "[1, 3, 5, 7, 9, 13, 15, 17, 19, 21, 23, 25, 27, 29, 31]\n",
      "17\n"
     ]
    }
   ],
   "source": [
    "import statistics as s\n",
    "\n",
    "\n",
    "\n",
    "odd = []\n",
    "b = [1,2,3,4,5,6,7,8,9,10,12,13,14,15,16,17,18,19,20,21,22,23,24,25,26,27,28,29,30,31,32]\n",
    "\n",
    "for i in b:\n",
    "    if i%2 != 0:\n",
    "        odd.append(i)\n",
    "        \n",
    "# print (odd)\n",
    "    \n",
    "odd.sort()\n",
    "print (odd)\n",
    "n = len(odd)\n",
    "\n",
    "even = odd[((n+1)//2)-1]\n",
    "\n",
    "print (even)"
   ]
  },
  {
   "cell_type": "code",
   "execution_count": 112,
   "id": "41355121",
   "metadata": {},
   "outputs": [],
   "source": [
    "def median_odd(num):\n",
    "    \n",
    "    odd = []\n",
    "    for i in num:\n",
    "        if i%2 != 0:\n",
    "            odd.append(i)\n",
    "        odd.sort()\n",
    "    print (\"Ascending No\", odd)\n",
    "    n = len(odd)\n",
    "    print (\"Total No\", n)\n",
    "    odd = odd[((n+1)//2)-1]\n",
    "\n",
    "    print (even)\n",
    "    \n",
    "    "
   ]
  },
  {
   "cell_type": "code",
   "execution_count": 113,
   "id": "9b0afd82",
   "metadata": {},
   "outputs": [
    {
     "name": "stdout",
     "output_type": "stream",
     "text": [
      "Ascending No [1, 3, 5, 7, 9, 13, 15, 17, 19, 21, 23, 25, 27, 29, 31]\n",
      "Total No 15\n",
      "17\n"
     ]
    }
   ],
   "source": [
    "median_odd([1,2,3,4,5,6,7,8,9,10,12,13,14,15,16,17,18,19,20,21,22,23,24,25,26,27,28,29,30,31,32])"
   ]
  },
  {
   "cell_type": "code",
   "execution_count": 125,
   "id": "594a98bf",
   "metadata": {},
   "outputs": [],
   "source": [
    "def median_even(num):\n",
    "    \n",
    "    even = []\n",
    "    for i in num:\n",
    "        if i%2 == 0:\n",
    "            even.append(i)\n",
    "        even.sort()\n",
    "    print (\"Ascending No\", even)\n",
    "    n = len(even)\n",
    "    print (\"Total No\", n)\n",
    "    median_even([1,2,3,4,5,6,7,8,9,10,12,13,14,15,16,17,18,19,20,21,22,23,24,25,26,27,28,29,30,31,32])\n",
    "\n",
    "\n",
    "    print (even)"
   ]
  },
  {
   "cell_type": "code",
   "execution_count": 126,
   "id": "a526556a",
   "metadata": {},
   "outputs": [
    {
     "name": "stdout",
     "output_type": "stream",
     "text": [
      "Ascending No [2, 4, 6, 8, 10, 12, 14, 16, 18, 20, 22, 24, 26, 28, 30, 32]\n",
      "Total No 16\n",
      "17.0\n"
     ]
    }
   ],
   "source": [
    "median_even([1,2,3,4,5,6,7,8,9,10,12,13,14,15,16,17,18,19,20,21,22,23,24,25,26,27,28,29,30,31,32])"
   ]
  },
  {
   "cell_type": "code",
   "execution_count": 127,
   "id": "458384ea",
   "metadata": {},
   "outputs": [],
   "source": [
    "def median_odd_even(num):\n",
    "    num.sort()\n",
    "    n = len(num)\n",
    "    if i%2 == 0:\n",
    "        even = (num[(n//2)-1]+num[((n//2)+1)-1])/2\n",
    "        print (even)\n",
    "    else:\n",
    "        odd = num[((n+1)//2)-1]\n",
    "        print (even)"
   ]
  },
  {
   "cell_type": "code",
   "execution_count": 129,
   "id": "bb2078dc",
   "metadata": {},
   "outputs": [
    {
     "name": "stdout",
     "output_type": "stream",
     "text": [
      "48.5\n"
     ]
    }
   ],
   "source": [
    "median_odd_even([32,43,54,6,76,87])"
   ]
  },
  {
   "cell_type": "code",
   "execution_count": 130,
   "id": "a6b6f107",
   "metadata": {},
   "outputs": [
    {
     "data": {
      "text/plain": [
       "48.5"
      ]
     },
     "execution_count": 130,
     "metadata": {},
     "output_type": "execute_result"
    }
   ],
   "source": [
    "s.median([32,43,54,6,76,87])"
   ]
  },
  {
   "cell_type": "markdown",
   "id": "62f16ec1",
   "metadata": {},
   "source": [
    "### mode\n",
    "\n",
    "> most occuring value"
   ]
  },
  {
   "cell_type": "code",
   "execution_count": 170,
   "id": "20428b5c",
   "metadata": {
    "scrolled": true
   },
   "outputs": [
    {
     "name": "stdout",
     "output_type": "stream",
     "text": [
      "Maximum value: 1\n"
     ]
    }
   ],
   "source": [
    "a = [1, 1, 1, 1, 1, 1, 1, 1, 2, 2, 2, 2, 3, 3, 3, 4, 4, 5, 6, 6, 4, 8, 484, 5]\n",
    "\n",
    "count = [ ]\n",
    "values = [ ]\n",
    "\n",
    "for i in set(a):\n",
    "    values.append(i)\n",
    "    count.append(a.count(i))\n",
    "#     print (i, a.count(i))\n",
    "    \n",
    "# print (values)\n",
    "# print (count)\n",
    "\n",
    "# data = values[5]\n",
    "# print (data)\n",
    "\n",
    "max_count =  max(count)\n",
    "# print (max_count)\n",
    "\n",
    "max_index = count.index(max_count)\n",
    "# print (max_index)\n",
    "max_value = values[max_index]\n",
    "print (\"Maximum value:\",max_value)"
   ]
  },
  {
   "cell_type": "code",
   "execution_count": 150,
   "id": "e854c45a",
   "metadata": {},
   "outputs": [],
   "source": [
    "a = [1, 1, 1, 1, 1, 1, 1, 1, 2, 2, 2, 2, 3, 3, 3, 4, 4, 5, 6, 6, 4, 8, 484, 5]\n",
    "\n",
    "# Create a dictionary to store the count of each element\n",
    "count_dict = {}\n",
    "\n",
    "# Iterate through the list and count each element\n",
    "for num in a:\n",
    "    if num in count_dict:\n",
    "        count_dict[num] += 1\n",
    "        print (count_dict)\n",
    "    else:\n",
    "        count_dict[num] = 1\n",
    "        print (count_dict)\n",
    "\n",
    "# Find the element with the maximum count\n",
    "most_occurring_value = max(count_dict, key=count_dict.get)\n",
    "\n",
    "print(\"Most occurring value is:\", most_occurring_value)"
   ]
  },
  {
   "cell_type": "code",
   "execution_count": 178,
   "id": "d47949c5",
   "metadata": {},
   "outputs": [],
   "source": [
    "def maximum_value(a):\n",
    "    a = list(a)\n",
    "    count = [ ]\n",
    "    values = [ ]\n",
    "\n",
    "    for i in set(a):\n",
    "        values.append(i)\n",
    "        count.append(a.count(i))\n",
    "    max_count =  max(count)\n",
    "    # print (max_count)\n",
    "\n",
    "    max_index = count.index(max_count)\n",
    "    # print (max_index)\n",
    "    max_value = values[max_index]\n",
    "    print (\"Maximum value:\",max_value)"
   ]
  },
  {
   "cell_type": "code",
   "execution_count": 187,
   "id": "b18f5b16",
   "metadata": {},
   "outputs": [
    {
     "name": "stdout",
     "output_type": "stream",
     "text": [
      "Maximum value: 1\n"
     ]
    }
   ],
   "source": [
    "maximum_value([1, 1, 1, 1, 1, 1, 1, 1, 2, 2, 2, 2, 3, 3, 3, 4, 4, 5, 6, 6, 4, 8, 484, 5])"
   ]
  },
  {
   "cell_type": "code",
   "execution_count": 188,
   "id": "460cb0c9",
   "metadata": {},
   "outputs": [
    {
     "data": {
      "text/plain": [
       "1"
      ]
     },
     "execution_count": 188,
     "metadata": {},
     "output_type": "execute_result"
    }
   ],
   "source": [
    "a = [1, 1, 1, 1, 1, 1, 1, 1, 2, 2, 2, 2, 3, 3, 3, 4, 4, 5, 6, 6, 4, 8, 484, 5]\n",
    "s.mode(a)"
   ]
  },
  {
   "cell_type": "code",
   "execution_count": 190,
   "id": "0efc23e6",
   "metadata": {},
   "outputs": [
    {
     "name": "stdout",
     "output_type": "stream",
     "text": [
      "Maximum value: 1\n"
     ]
    }
   ],
   "source": [
    "maximum_value([1, 1,2, 2, 3, 3, 4, 4, 5, 6, 68, 484, 5])\n"
   ]
  },
  {
   "cell_type": "code",
   "execution_count": 191,
   "id": "17dfe696",
   "metadata": {},
   "outputs": [
    {
     "data": {
      "text/plain": [
       "[1, 2, 3, 4, 5]"
      ]
     },
     "execution_count": 191,
     "metadata": {},
     "output_type": "execute_result"
    }
   ],
   "source": [
    "a = [1, 1,2, 2, 3, 3, 4, 4, 5, 6, 68, 484, 5]\n",
    "\n",
    "s.multimode(a)"
   ]
  },
  {
   "cell_type": "code",
   "execution_count": 199,
   "id": "e8fd74b5",
   "metadata": {},
   "outputs": [
    {
     "name": "stdout",
     "output_type": "stream",
     "text": [
      "Multimode values are: [1, 2, 3, 4, 5]\n"
     ]
    }
   ],
   "source": [
    "a = [1, 1, 2, 2, 3, 3, 4, 4, 5, 6, 68, 484, 5]\n",
    "\n",
    "# Create a dictionary to store the count of each element\n",
    "count_dict = {}\n",
    "\n",
    "# Iterate through the list and count each element\n",
    "for num in a:\n",
    "    if num in count_dict:\n",
    "        count_dict[num] += 1\n",
    "    else:\n",
    "        count_dict[num] = 1\n",
    "\n",
    "# Find the maximum count\n",
    "max_count = max(count_dict.values())\n",
    "\n",
    "# Find all elements with the maximum count\n",
    "multimode_values = [key for key, value in count_dict.items() if value == max_count]\n",
    "\n",
    "print(\"Multimode values are:\", multimode_values)\n"
   ]
  },
  {
   "cell_type": "code",
   "execution_count": 201,
   "id": "134a5c40",
   "metadata": {},
   "outputs": [
    {
     "name": "stdout",
     "output_type": "stream",
     "text": [
      "Values: [1, 2, 3, 4, 5, 6, 68, 484]\n",
      "Counts: [2, 2, 2, 2, 2, 1, 1, 1]\n",
      "Multimode values are: [1, 2, 3, 4, 5]\n"
     ]
    }
   ],
   "source": [
    "a = [1, 1, 2, 2, 3, 3, 4, 4, 5, 6, 68, 484, 5]\n",
    "\n",
    "count = []\n",
    "values = []\n",
    "\n",
    "# Count occurrences of each unique element\n",
    "for i in set(a):\n",
    "    values.append(i)\n",
    "    count.append(a.count(i))\n",
    "\n",
    "print(\"Values:\", values)\n",
    "print(\"Counts:\", count)\n",
    "\n",
    "# # Find the maximum count\n",
    "# max_count = max(count)\n",
    "# print(\"Max count:\", max_count)\n",
    "\n",
    "# Find all indices with the maximum count\n",
    "max_indices = [i for i, x in enumerate(count) if x == max_count]\n",
    "\n",
    "# Get the corresponding values\n",
    "multimode_values = [values[i] for i in max_indices]\n",
    "print(\"Multimode values are:\", multimode_values)\n"
   ]
  },
  {
   "cell_type": "code",
   "execution_count": null,
   "id": "ebcb6870",
   "metadata": {},
   "outputs": [],
   "source": []
  }
 ],
 "metadata": {
  "kernelspec": {
   "display_name": "Python 3 (ipykernel)",
   "language": "python",
   "name": "python3"
  },
  "language_info": {
   "codemirror_mode": {
    "name": "ipython",
    "version": 3
   },
   "file_extension": ".py",
   "mimetype": "text/x-python",
   "name": "python",
   "nbconvert_exporter": "python",
   "pygments_lexer": "ipython3",
   "version": "3.11.4"
  }
 },
 "nbformat": 4,
 "nbformat_minor": 5
}
